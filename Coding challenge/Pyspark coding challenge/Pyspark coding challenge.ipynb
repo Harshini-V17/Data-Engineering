{
 "cells": [
  {
   "cell_type": "code",
   "execution_count": 0,
   "metadata": {
    "application/vnd.databricks.v1+cell": {
     "cellMetadata": {
      "byteLimit": 2048000,
      "rowLimit": 10000
     },
     "inputWidgets": {},
     "nuid": "02ce35eb-7466-4df4-b1dc-ed205ed910ab",
     "showTitle": false,
     "tableResultSettingsMap": {},
     "title": ""
    }
   },
   "outputs": [],
   "source": [
    "from pyspark.sql import SparkSession\n",
    "spark = SparkSession.builder.appName(\"Pyspark coding challenge\").getOrCreate()\n",
    "loan_df = spark.read.csv(\"/FileStore/tables/loan/loan.csv\", header=True, inferSchema=True)\n",
    "credit_df = spark.read.csv(\"/FileStore/tables/credit_card.csv\", header=True, inferSchema=True)"
   ]
  },
  {
   "cell_type": "code",
   "execution_count": 0,
   "metadata": {
    "application/vnd.databricks.v1+cell": {
     "cellMetadata": {
      "byteLimit": 2048000,
      "rowLimit": 10000
     },
     "inputWidgets": {},
     "nuid": "910edaca-2542-4e6d-8acd-07d19915e238",
     "showTitle": false,
     "tableResultSettingsMap": {},
     "title": ""
    }
   },
   "outputs": [
    {
     "output_type": "stream",
     "name": "stdout",
     "output_type": "stream",
     "text": [
      "+-----------+---+------+-------------------+--------------+-----------+------+-----------+-------------+------------------+-----------+-------+------------+----------------+------------------+\n|Customer_Id|Age|Gender|         Occupation|Marital Status|Family Size|Income|Expenditure|Use Frequency|     Loan Category|Loan Amount|Overdue| Debt Record| Returned Cheque| Dishonour of Bill|\n+-----------+---+------+-------------------+--------------+-----------+------+-----------+-------------+------------------+-----------+-------+------------+----------------+------------------+\n|   15767821| 24|  MALE|       DATA ANALYST|        SINGLE|          4| 60111|      28999|            6|        AUTOMOBILE|     35,232|      5|      33,333|               1|                 2|\n|   15643966| 25|FEMALE|             DOCTOR|        SINGLE|          4| 60111|      27111|            5|        TRAVELLING|  12,90,929|      4|      18,000|               1|                 0|\n|   15738191| 60|FEMALE|            TEACHER|       MARRIED|          5| 70000|      40000|            9|         GOLD LOAN|   2,57,789|      4|      10,058|               4|                 3|\n|   15728693| 25|  MALE|          PROFESSOR|        SINGLE|          5| 62145|      31254|            4|       BOOK STORES|  12,45,789|      6|      48,596|               6|                 5|\n|   15706552| 49|  MALE|ASSISTANT PROFESSOR|       MARRIED|          5| 65214|      42589|            5|           HOUSING|   9,85,412|      5|      11,254|               1|                 2|\n|   15659428| 47|FEMALE|             DOCTOR|       MARRIED|          4| 72154|      45286|            4|        AUTOMOBILE|   7,54,126|      2|      19,524|               5|                 2|\n|   15794171| 54|  MALE|    AIRPORT OFFICER|       MARRIED|          6| 80000|      32541|            2|        AUTOMOBILE|  20,45,789|      1|      16,599|               2|                 3|\n|   15729599| 44|FEMALE|    ACCOUNT MANAGER|       MARRIED|          4|800000|      15632|            8|        AUTOMOBILE|  23,65,478|      5|      20,145|               3|                 4|\n|   15738148| 41|  MALE|       BANK MANAGER|       MARRIED|          6| 64125|      21246|            6|        TRAVELLING|   6,52,147|      5|      16,524|               3|                 3|\n|   15684171| 33|  MALE|             DOCTOR|       MARRIED|          6| 70000|      12541|            8|           HOUSING|   7,45,213|      4|      19,541|               1|                 3|\n|   15766205| 46|FEMALE|              CLERK|       MARRIED|          3|750000|      25641|            5|         GOLD LOAN|   2,14,569|      4|      16,324|               3|                 4|\n|   15616550| 33|  MALE|             DOCTOR|       MARRIED|          6| 70000|      33541|            8|          BUILDING|   7,45,213|      4|      19,541|               1|                 3|\n|   15630053| 56|  MALE|    FIRE DEPARTMENT|       MARRIED|          6| 67890|      34567|            5|        TRAVELLING|   6,78,500|      5|      13,560|               3|                 4|\n|   15804771| 58|  MALE|    SYSTEM ENGINEER|       MARRIED|          6| 76800|       null|            5|        TRAVELLING|  16,59,080|      6|      29,000|               5|                 3|\n|   15773469| 35|  MALE|       BANK MANAGER|       MARRIED|          4|930000|      35680|            6|           HOUSING|   6,79,040|      5|      34,000|               5|                 5|\n|   15702014| 54|  MALE|    AIRPORT OFFICER|       MARRIED|          6| 80000|      62541|            2|        AUTOMOBILE|  20,45,789|      1|      16,599|               2|                 3|\n|   15592461| 44|FEMALE|    ACCOUNT MANAGER|       MARRIED|          4|800000|      15632|            8|COMPUTER SOFTWARES|  23,65,478|      5|      20,145|               3|                 4|\n|   15638424| 47|FEMALE|             DOCTOR|       MARRIED|          4| 72154|      45286|            4|        AUTOMOBILE|   7,54,126|      2|      19,524|               5|                 2|\n|   15703793| 54|  MALE|    AIRPORT OFFICER|       MARRIED|          6| 80000|      62541|            2|           HOUSING|  20,45,789|      1|      16,599|               2|                 3|\n|   15770811| 24|  MALE|       DATA ANALYST|        SINGLE|          4| 60111|      28999|            6|       RESTAURANTS|     35,232|      5|      33,333|               1|                 2|\n+-----------+---+------+-------------------+--------------+-----------+------+-----------+-------------+------------------+-----------+-------+------------+----------------+------------------+\nonly showing top 20 rows\n\n"
     ]
    }
   ],
   "source": [
    "# Filter customers with income greater than 60,000\n",
    "loan_df.filter(loan_df['income'] > 60000).show()"
   ]
  },
  {
   "cell_type": "code",
   "execution_count": 0,
   "metadata": {
    "application/vnd.databricks.v1+cell": {
     "cellMetadata": {
      "byteLimit": 2048000,
      "rowLimit": 10000
     },
     "inputWidgets": {},
     "nuid": "535e0fa2-7feb-4ae0-bad2-984a8482f0a1",
     "showTitle": false,
     "tableResultSettingsMap": {},
     "title": ""
    }
   },
   "outputs": [
    {
     "output_type": "stream",
     "name": "stdout",
     "output_type": "stream",
     "text": [
      "+-----------+---+------+-----------------+--------------+-----------+------+-----------+-------------+---------------+-----------+-------+------------+----------------+------------------+\n|Customer_Id|Age|Gender|       Occupation|Marital Status|Family Size|Income|Expenditure|Use Frequency|  Loan Category|Loan Amount|Overdue| Debt Record| Returned Cheque| Dishonour of Bill|\n+-----------+---+------+-----------------+--------------+-----------+------+-----------+-------------+---------------+-----------+-------+------------+----------------+------------------+\n|   15592531| 39|FEMALE|          TEACHER|       MARRIED|          6| 46619|      18675|            4|        HOUSING|  12,09,867|      8|      29,999|               6|                 8|\n|   15656148| 51|  MALE|   SYSTEM MANAGER|       MARRIED|          3| 49999|      19111|            5|    RESTAURANTS|     60,676|      8|      13,000|               2|                 5|\n|   15792365| 24|FEMALE|          TEACHER|        SINGLE|          3| 45008|      17454|            4|     AUTOMOBILE|   3,99,435|      9|      51,987|               4|                 7|\n|   15632264| 54|FEMALE|          TEACHER|       MARRIED|          5| 48099|      19999|            4|    RESTAURANTS|     30,999|      1|      12,000|               7|                 5|\n|   15691483| 45|  MALE|  ACCOUNT MANAGER|       MARRIED|          7| 45777|      18452|            4|      GOLD LOAN|   9,87,611|      7|      39,999|               8|                 1|\n|   15788218| 49|  MALE|     BANK MANAGER|       MARRIED|          4| 45999|      14500|            4|     TRAVELLING|     79,999|      4|       6,700|               7|                 3|\n|   15597945| 36|FEMALE|            CLERK|       MARRIED|          4| 35000|      15000|            3|        HOUSING|   3,00,000|      2|       5,600|               4|                 8|\n|   15699309| 40|  MALE|     PUBLIC WORKS|       MARRIED|          4| 38000|      20000|            3|      GOLD LOAN|   4,00,000|      9|      19,954|               3|                 2|\n|   15725737| 45|FEMALE|  FIRE DEPARTMENT|       MARRIED|          4| 40000|      18888|            4|     AUTOMOBILE|     70,000|      1|           0|               2|                 1|\n|   15736816| 30|  MALE|      ELECTRICIAN|       MARRIED|          4| 30000|      15000|            5|        HOUSING|   3,54,789|      5|      32,154|               5|                 5|\n|   15700772| 51|FEMALE|       TECHNICIAN|       MARRIED|          5| 30000|       null|            5|    RESTAURANTS|   1,25,463|      7|      52,634|               4|                10|\n|   15589475| 21|FEMALE|          MANAGER|        SINGLE|          3| 42516|      24567|            7|     AUTOMOBILE|  25,69,874|      8|      89,652|               2|                 3|\n|   15750181| 33|FEMALE|            CLERK|       MARRIED|          3| 35684|      15247|            3|    RESTAURANTS|  14,52,637|      3|      13,547|               3|                 2|\n|   15788448| 29|  MALE|  FIRE DEPARTMENT|       MARRIED|          5| 45213|      32457|            9|     TRAVELLING|  15,24,789|      7|      90,000|               2|                 5|\n|   15717426| 56|  MALE|           DRIVER|       MARRIED|          5| 30000|      15426|            7|     TRAVELLING|   9,21,456|      6|      20,000|               4|                 6|\n|   15619360| 49|  MALE|ASSISTANT MANAGER|       MARRIED|          7| 45612|      39542|            3|       SHOPPING|   5,87,412|      7|      65,412|               3|                 2|\n|   15754849| 36|  MALE|      ELECTRICIAN|       MARRIED|          2| 36985|      25648|            6|     AUTOMOBILE|   9,85,413|      7|      20,000|               5|                 3|\n|   15768193| 36|  MALE|      ELECTRICIAN|       MARRIED|          2| 36985|      25648|            6|    ELECTRONICS|   9,85,413|      7|      20,000|               5|                 3|\n|   15683553| 27|FEMALE|SOFTWARE ENGINEER|        SINGLE|          4| 40000|      22000|            4|      GOLD LOAN|   4,00,000|      4|      15,647|               5|                 3|\n|   15569590| 34|FEMALE|          TEACHER|       MARRIED|          4| 45389|       null|            5|HOME APPLIANCES|   3,50,050|      4|      24,000|               4|                 3|\n+-----------+---+------+-----------------+--------------+-----------+------+-----------+-------------+---------------+-----------+-------+------------+----------------+------------------+\nonly showing top 20 rows\n\n"
     ]
    }
   ],
   "source": [
    "# Filter customers with more than 2 returned cheques and income less than 50,000\n",
    "loan_df.filter((loan_df[' Returned Cheque'] >= 2) & (loan_df['Income'] < 50000)).show()"
   ]
  },
  {
   "cell_type": "code",
   "execution_count": 0,
   "metadata": {
    "application/vnd.databricks.v1+cell": {
     "cellMetadata": {
      "byteLimit": 2048000,
      "rowLimit": 10000
     },
     "inputWidgets": {},
     "nuid": "44c77916-10ce-47d4-8341-e8719ddc217c",
     "showTitle": false,
     "tableResultSettingsMap": {},
     "title": ""
    }
   },
   "outputs": [
    {
     "output_type": "stream",
     "name": "stdout",
     "output_type": "stream",
     "text": [
      "+---------+----------+---------+-----------+---------+------+---+------+---------+-------------+--------------+---------------+------+\n|RowNumber|CustomerId|  Surname|CreditScore|Geography|Gender|Age|Tenure|  Balance|NumOfProducts|IsActiveMember|EstimatedSalary|Exited|\n+---------+----------+---------+-----------+---------+------+---+------+---------+-------------+--------------+---------------+------+\n|        2|  15647311|     Hill|        608|    Spain|Female| 41|     1| 83807.86|            1|             1|      112542.58|     0|\n|        5|  15737888| Mitchell|        850|    Spain|Female| 43|     2|125510.82|            1|             1|        79084.1|     0|\n|        6|  15574012|      Chu|        645|    Spain|  Male| 44|     8|113755.78|            2|             0|      149756.71|     1|\n|       12|  15737173|  Andrews|        497|    Spain|  Male| 24|     3|      0.0|            2|             0|       76390.01|     0|\n|       15|  15600882|    Scott|        635|    Spain|Female| 35|     7|      0.0|            2|             1|       65951.65|     0|\n|       18|  15788218|Henderson|        549|    Spain|Female| 24|     9|      0.0|            2|             1|       14406.41|     0|\n|       19|  15661507|  Muldrow|        587|    Spain|  Male| 45|     6|      0.0|            1|             0|      158684.81|     0|\n|       22|  15597945| Dellucci|        636|    Spain|Female| 32|     8|      0.0|            2|             0|      138555.46|     0|\n|       23|  15699309|Gerasimov|        510|    Spain|Female| 38|     4|      0.0|            1|             0|      118913.53|     1|\n|       31|  15589475|  Azikiwe|        591|    Spain|Female| 39|     3|      0.0|            3|             0|      140469.38|     1|\n|       34|  15659428|  Maggard|        520|    Spain|Female| 42|     6|      0.0|            2|             1|       34410.55|     0|\n|       35|  15732963| Clements|        722|    Spain|Female| 29|     9|      0.0|            2|             1|      142033.07|     0|\n|       37|  15788448|   Watson|        490|    Spain|  Male| 31|     3|145260.23|            1|             1|      114066.77|     0|\n|       38|  15729599|  Lorenzo|        804|    Spain|  Male| 33|     7|  76548.6|            1|             1|       98453.45|     0|\n|       41|  15619360|    Hsiao|        472|    Spain|  Male| 40|     4|      0.0|            1|             0|       70154.22|     0|\n|       45|  15684171|  Bianchi|        660|    Spain|Female| 61|     5|155931.11|            1|             1|      158338.39|     0|\n|       59|  15623944|    T'ien|        511|    Spain|Female| 66|     4|      0.0|            1|             0|        1643.11|     1|\n|       63|  15702014|  Jeffrey|        555|    Spain|  Male| 33|     1| 56084.69|            2|             0|      178798.13|     0|\n|       64|  15751208|  Pirozzi|        684|    Spain|  Male| 56|     8| 78707.16|            1|             1|       99398.36|     0|\n|       73|  15812518|  Palermo|        657|    Spain|Female| 37|     0|163607.18|            1|             1|       44203.55|     0|\n+---------+----------+---------+-----------+---------+------+---+------+---------+-------------+--------------+---------------+------+\nonly showing top 20 rows\n\n"
     ]
    }
   ],
   "source": [
    "# Filter credit card users in Spain\n",
    "credit_df.filter(credit_df['Geography'] == 'Spain').show()"
   ]
  },
  {
   "cell_type": "code",
   "execution_count": 0,
   "metadata": {
    "application/vnd.databricks.v1+cell": {
     "cellMetadata": {
      "byteLimit": 2048000,
      "rowLimit": 10000
     },
     "inputWidgets": {},
     "nuid": "f92904bf-e628-478f-828e-378310e04f7c",
     "showTitle": false,
     "tableResultSettingsMap": {},
     "title": ""
    }
   },
   "outputs": [
    {
     "output_type": "stream",
     "name": "stdout",
     "output_type": "stream",
     "text": [
      "+-----------+---+------+---------------+--------------+-----------+------+-----------+-------------+-------------+-----------+-------+------------+----------------+------------------+\n|Customer_Id|Age|Gender|     Occupation|Marital Status|Family Size|Income|Expenditure|Use Frequency|Loan Category|Loan Amount|Overdue| Debt Record| Returned Cheque| Dishonour of Bill|\n+-----------+---+------+---------------+--------------+-----------+------+-----------+-------------+-------------+-----------+-------+------------+----------------+------------------+\n|   15702014| 54|  MALE|AIRPORT OFFICER|       MARRIED|          6| 80000|      62541|            2|   AUTOMOBILE|  20,45,789|      1|      16,599|               2|                 3|\n|   15703793| 54|  MALE|AIRPORT OFFICER|       MARRIED|          6| 80000|      62541|            2|      HOUSING|  20,45,789|      1|      16,599|               2|                 3|\n|   15805254| 54|  MALE|AIRPORT OFFICER|       MARRIED|          6| 81000|      62541|            2|      DINNING|  20,45,789|      1|      16,599|               2|                 3|\n|   15693683| 54|  MALE|AIRPORT OFFICER|       MARRIED|          6| 80000|      62541|            2|      HOUSING|  20,45,789|      1|      16,599|               2|                 3|\n|   15782688| 41|  MALE|   BANK MANAGER|       MARRIED|          6| 64125|      51246|            6|   TRAVELLING|   6,52,147|      5|      16,524|               3|                 3|\n|   15663252| 26|  MALE|      DIETICIAN|        SINGLE|          3| 95425|      53086|            2|      HOUSING|   4,88,076|      4|       61227|               5|                 2|\n+-----------+---+------+---------------+--------------+-----------+------+-----------+-------------+-------------+-----------+-------+------------+----------------+------------------+\n\n"
     ]
    }
   ],
   "source": [
    "# Filter loans with expenditure greater than 50,000 per month\n",
    "loan_df.filter(loan_df['expenditure'] > 50000).show()"
   ]
  },
  {
   "cell_type": "code",
   "execution_count": 0,
   "metadata": {
    "application/vnd.databricks.v1+cell": {
     "cellMetadata": {
      "byteLimit": 2048000,
      "rowLimit": 10000
     },
     "inputWidgets": {},
     "nuid": "a0e5f9c2-f77a-4f9d-bec5-5d3799fea140",
     "showTitle": false,
     "tableResultSettingsMap": {},
     "title": ""
    }
   },
   "outputs": [
    {
     "output_type": "stream",
     "name": "stdout",
     "output_type": "stream",
     "text": [
      "+-----------+-----------+---------+\n|Customer_Id|Loan Amount|  Balance|\n+-----------+-----------+---------+\n|   15634602|  10,00,000|      0.0|\n|   15647311|     50,000| 83807.86|\n|   15619304|     75,000| 159660.8|\n|   15701354|   6,00,000|      0.0|\n|   15737888|   2,00,000|125510.82|\n|   15574012|     47,787|113755.78|\n|   15592531|  12,09,867|      0.0|\n|   15656148|     60,676|115046.74|\n|   15792365|   3,99,435|142051.07|\n|   15592389|     60,999|134603.88|\n|   15767821|     35,232|102016.72|\n|   15737173|     80,660|      0.0|\n|   15632264|     30,999|      0.0|\n|   15691483|   9,87,611|      0.0|\n|   15600882|   5,99,934|      0.0|\n|   15643966|  12,90,929|143129.41|\n|   15737452|   1,67,654|132602.88|\n|   15788218|     79,999|      0.0|\n|   15661507|  10,65,577|      0.0|\n|   15568982|   9,00,000|      0.0|\n+-----------+-----------+---------+\nonly showing top 20 rows\n\n"
     ]
    }
   ],
   "source": [
    "# Join loan and credit card datasets on customer_id and customerid\n",
    "loan_df.join(credit_df, loan_df['Customer_Id'] == credit_df['CustomerId'], 'inner') \\\n",
    ".select(loan_df['Customer_Id'], loan_df['Loan Amount'], credit_df['Balance']).show()\n"
   ]
  },
  {
   "cell_type": "code",
   "execution_count": 0,
   "metadata": {
    "application/vnd.databricks.v1+cell": {
     "cellMetadata": {
      "byteLimit": 2048000,
      "rowLimit": 10000
     },
     "inputWidgets": {},
     "nuid": "415e7deb-9c45-4d8d-9d2f-5157e4231cce",
     "showTitle": false,
     "tableResultSettingsMap": {},
     "title": ""
    }
   },
   "outputs": [
    {
     "output_type": "stream",
     "name": "stdout",
     "output_type": "stream",
     "text": [
      "+-----------+-----------+---------------+\n|Customer_Id|Loan Amount|EstimatedSalary|\n+-----------+-----------+---------------+\n|   15634602|  10,00,000|      101348.88|\n|   15647311|     50,000|      112542.58|\n|   15619304|     75,000|      113931.57|\n|   15701354|   6,00,000|       93826.63|\n|   15737888|   2,00,000|        79084.1|\n|   15574012|     47,787|      149756.71|\n|   15592531|  12,09,867|        10062.8|\n|   15656148|     60,676|      119346.88|\n|   15792365|   3,99,435|        74940.5|\n|   15592389|     60,999|       71725.73|\n|   15767821|     35,232|       80181.12|\n|   15737173|     80,660|       76390.01|\n|   15632264|     30,999|       26260.98|\n|   15691483|   9,87,611|      190857.79|\n|   15600882|   5,99,934|       65951.65|\n|   15643966|  12,90,929|       64327.26|\n|   15737452|   1,67,654|        5097.67|\n|   15788218|     79,999|       14406.41|\n|   15661507|  10,65,577|      158684.81|\n|   15568982|   9,00,000|       54724.03|\n+-----------+-----------+---------------+\nonly showing top 20 rows\n\n"
     ]
    }
   ],
   "source": [
    "# Join loan dataset with credit card dataset to get loan amount and estimated salary\n",
    "loan_df.join(credit_df, loan_df['Customer_Id'] == credit_df['CustomerId'], 'inner') \\\n",
    ".select(loan_df['Customer_Id'], loan_df['Loan Amount'], credit_df['EstimatedSalary']).show()\n"
   ]
  },
  {
   "cell_type": "code",
   "execution_count": 0,
   "metadata": {
    "application/vnd.databricks.v1+cell": {
     "cellMetadata": {
      "byteLimit": 2048000,
      "rowLimit": 10000
     },
     "inputWidgets": {},
     "nuid": "b7977155-ebd3-47a9-aed3-4720a386178d",
     "showTitle": false,
     "tableResultSettingsMap": {},
     "title": ""
    }
   },
   "outputs": [
    {
     "output_type": "stream",
     "name": "stdout",
     "output_type": "stream",
     "text": [
      "+-----------+-----------+---+\n|Customer_Id|Loan Amount|age|\n+-----------+-----------+---+\n|   15634602|  10,00,000| 42|\n|   15647311|     50,000| 41|\n|   15619304|     75,000| 42|\n|   15737888|   2,00,000| 43|\n|   15574012|     47,787| 44|\n|   15592531|  12,09,867| 50|\n|   15656148|     60,676| 29|\n|   15592389|     60,999| 27|\n|   15737173|     80,660| 24|\n|   15632264|     30,999| 34|\n|   15691483|   9,87,611| 25|\n|   15600882|   5,99,934| 35|\n|   15737452|   1,67,654| 58|\n|   15788218|     79,999| 24|\n|   15661507|  10,65,577| 45|\n|   15568982|   9,00,000| 24|\n|   15597945|   3,00,000| 32|\n|   15699309|   4,00,000| 38|\n|   15725737|     70,000| 46|\n|   15738191|   2,57,789| 25|\n+-----------+-----------+---+\nonly showing top 20 rows\n\n"
     ]
    }
   ],
   "source": [
    "# Join loan dataset with credit dataset and filter by customers aged 30 and above\n",
    "loan_df.join(credit_df, loan_df['Customer_Id'] == credit_df['CustomerId'], 'inner') \\\n",
    ".filter(loan_df['age'] >= 30) \\\n",
    ".select(loan_df['Customer_Id'], loan_df['Loan Amount'], credit_df['age']).show()\n"
   ]
  },
  {
   "cell_type": "code",
   "execution_count": 0,
   "metadata": {
    "application/vnd.databricks.v1+cell": {
     "cellMetadata": {
      "byteLimit": 2048000,
      "rowLimit": 10000
     },
     "inputWidgets": {},
     "nuid": "7776b334-3d86-46ad-ace2-ba6a297a6764",
     "showTitle": false,
     "tableResultSettingsMap": {},
     "title": ""
    }
   },
   "outputs": [
    {
     "output_type": "stream",
     "name": "stdout",
     "output_type": "stream",
     "text": [
      "+-----------+-----------+-----------+\n|Customer_Id|Loan Amount|CreditScore|\n+-----------+-----------+-----------+\n|   15634602|  10,00,000|        619|\n|   15592531|  12,09,867|        822|\n|   15661507|  10,65,577|        587|\n|   15568982|   9,00,000|        726|\n|   15597945|   3,00,000|        636|\n|   15736816|   3,54,789|        756|\n|   15706552|   9,85,412|        533|\n|   15684171|   7,45,213|        660|\n|   15773469|   6,79,040|        687|\n|   15703793|  20,45,789|        738|\n|   15625759|   3,00,000|        729|\n|   15738721|  10,65,577|        773|\n|   15693683|  20,45,789|        814|\n|   15715951|  20,45,789|        562|\n|   15740404|   3,00,000|        758|\n|   15712543|   4,77,870|        789|\n|   15640905|  20,45,789|        579|\n|   15724944|  10,65,577|        663|\n|   15628145|   3,54,789|        682|\n|   15754105|   9,85,412|        650|\n+-----------+-----------+-----------+\nonly showing top 20 rows\n\n"
     ]
    }
   ],
   "source": [
    "# Join loan dataset with credit dataset to get credit score for customers with housing loans\n",
    "loan_df.join(credit_df, loan_df['Customer_Id'] == credit_df['CustomerId'], 'inner') \\\n",
    ".filter(loan_df['loan category'] == 'HOUSING') \\\n",
    ".select(loan_df['Customer_Id'], loan_df['Loan Amount'], credit_df['CreditScore']).show()\n"
   ]
  },
  {
   "cell_type": "code",
   "execution_count": 0,
   "metadata": {
    "application/vnd.databricks.v1+cell": {
     "cellMetadata": {
      "byteLimit": 2048000,
      "rowLimit": 10000
     },
     "inputWidgets": {},
     "nuid": "3584a28d-e3a2-4617-9261-92b5c09d9399",
     "showTitle": false,
     "tableResultSettingsMap": {},
     "title": ""
    }
   },
   "outputs": [
    {
     "output_type": "stream",
     "name": "stdout",
     "output_type": "stream",
     "text": [
      "+-----------+-----------+-----------+\n|Customer_Id|Loan Amount|CreditScore|\n+-----------+-----------+-----------+\n|   15737888|   2,00,000|        850|\n|   15592531|  12,09,867|        822|\n|   15568982|   9,00,000|        726|\n|   15577657|   4,00,000|        732|\n|   15625047|   1,00,000|        846|\n|   15736816|   3,54,789|        756|\n|   15732963|   8,52,416|        722|\n|   15729599|  23,65,478|        804|\n|   15717426|   9,21,456|        850|\n|   15755196|   6,54,120|        834|\n|   15754849|   9,85,413|        776|\n|   15602280|  52,14,789|        829|\n|   15771873|   7,85,241|        776|\n|   15683553|   4,00,000|        788|\n|   15647091|   8,54,000|        725|\n|   15651280|   7,89,000|        742|\n|   15789484|   9,21,456|        751|\n|   15641582|   5,87,412|        735|\n|   15703793|  20,45,789|        738|\n|   15620344|     60,676|        813|\n+-----------+-----------+-----------+\nonly showing top 20 rows\n\n"
     ]
    }
   ],
   "source": [
    "# Join loan dataset with credit dataset and show customers with overdue loans and high credit score\n",
    "loan_df.join(credit_df, loan_df['Customer_Id'] == credit_df['CustomerId'], 'inner') \\\n",
    ".filter(loan_df['overdue'] > 0) \\\n",
    ".filter(credit_df['creditscore'] > 700) \\\n",
    ".select(loan_df['Customer_Id'], loan_df['Loan Amount'], credit_df['CreditScore']).show()"
   ]
  },
  {
   "cell_type": "code",
   "execution_count": 0,
   "metadata": {
    "application/vnd.databricks.v1+cell": {
     "cellMetadata": {
      "byteLimit": 2048000,
      "rowLimit": 10000
     },
     "inputWidgets": {},
     "nuid": "42bbfd47-f1fa-4026-b2ea-c5d118b5d235",
     "showTitle": false,
     "tableResultSettingsMap": {},
     "title": ""
    }
   },
   "outputs": [
    {
     "output_type": "stream",
     "name": "stdout",
     "output_type": "stream",
     "text": [
      "+--------------------+------------------+\n|          Occupation|    Average_Income|\n+--------------------+------------------+\n|      CIVIL ENGINEER|60359.666666666664|\n|     FIRE DEPARTMENT|55357.916666666664|\n|          ACCOUNTANT| 56623.28571428572|\n|        BANK MANAGER|           92191.0|\n|      SYSTEM OFFICER|           56780.0|\n|           NUTRITION|           55650.0|\n|           DIETICIAN| 72599.16666666667|\n|               CLERK|         76871.125|\n|   SOFTWARE ENGINEER|           61107.8|\n|AGRICULTURAL ENGI...|         82060.625|\n|   ASSISTANT MANAGER|54866.166666666664|\n|             TEACHER| 52812.73333333333|\n| ASSISTANT PROFESSOR|53319.333333333336|\n|     SYSTEM ENGINEER|60509.333333333336|\n| CHARTERED APPRAISER| 76456.72727272728|\n|                NAVY|        71190.9375|\n|              POLICE| 49049.88888888889|\n|            BUSINESS|        56682.5625|\n|              FARMER| 74906.85714285714|\n|              DRIVER|64450.833333333336|\n+--------------------+------------------+\nonly showing top 20 rows\n\n"
     ]
    }
   ],
   "source": [
    "# Calculate the average income for each occupation in the loan dataset\n",
    "loan_df.groupBy('Occupation').avg('Income').withColumnRenamed('avg(Income)', 'Average_Income').show()"
   ]
  },
  {
   "cell_type": "code",
   "execution_count": 0,
   "metadata": {
    "application/vnd.databricks.v1+cell": {
     "cellMetadata": {
      "byteLimit": 2048000,
      "rowLimit": 10000
     },
     "inputWidgets": {},
     "nuid": "67d30c7b-fff8-4f03-81a2-24d0910309f5",
     "showTitle": false,
     "tableResultSettingsMap": {},
     "title": ""
    }
   },
   "outputs": [
    {
     "output_type": "stream",
     "name": "stdout",
     "output_type": "stream",
     "text": [
      "+-----------+\n|Max_Balance|\n+-----------+\n|  250898.09|\n+-----------+\n\n"
     ]
    }
   ],
   "source": [
    "# Find the maximum balance in the credit card dataset\n",
    "credit_df.agg({\"Balance\": \"max\"}).withColumnRenamed(\"max(Balance)\", \"Max_Balance\").show()\n"
   ]
  },
  {
   "cell_type": "code",
   "execution_count": 0,
   "metadata": {
    "application/vnd.databricks.v1+cell": {
     "cellMetadata": {
      "byteLimit": 2048000,
      "rowLimit": 10000
     },
     "inputWidgets": {},
     "nuid": "3a91c6ec-22b5-47e6-b0c2-92305539dc68",
     "showTitle": false,
     "tableResultSettingsMap": {},
     "title": ""
    }
   },
   "outputs": [
    {
     "output_type": "stream",
     "name": "stdout",
     "output_type": "stream",
     "text": [
      "+----------+--------------+\n|CustomerId|Total_Products|\n+----------+--------------+\n|  15632264|             2|\n|  15613854|             2|\n|  15662403|             2|\n|  15672012|             1|\n|  15724563|             2|\n|  15793949|             1|\n|  15721292|             2|\n|  15763612|             2|\n|  15734491|             2|\n|  15590268|             1|\n|  15747980|             2|\n|  15574167|             1|\n|  15671766|             1|\n|  15576928|             1|\n|  15630661|             1|\n|  15612893|             1|\n|  15760121|             1|\n|  15694890|             1|\n|  15661330|             1|\n|  15806913|             1|\n+----------+--------------+\nonly showing top 20 rows\n\n"
     ]
    }
   ],
   "source": [
    "# Find the total number of products for each customer in the credit card dataset\n",
    "credit_df.groupBy('CustomerId').sum('NumOfProducts').withColumnRenamed('sum(NumOfProducts)', 'Total_Products').show()"
   ]
  },
  {
   "cell_type": "code",
   "execution_count": 0,
   "metadata": {
    "application/vnd.databricks.v1+cell": {
     "cellMetadata": {
      "byteLimit": 2048000,
      "rowLimit": 10000
     },
     "inputWidgets": {},
     "nuid": "931676b3-1012-49c9-bb35-6744fce685c4",
     "showTitle": false,
     "tableResultSettingsMap": {},
     "title": ""
    }
   },
   "outputs": [
    {
     "output_type": "stream",
     "name": "stdout",
     "output_type": "stream",
     "text": [
      "+---------+--------------------+\n|Geography|Average_Credit_Score|\n+---------+--------------------+\n|  Germany|   651.4535671582304|\n|   France|   649.6683286796969|\n|    Spain|   651.3338716188938|\n+---------+--------------------+\n\n"
     ]
    }
   ],
   "source": [
    "# Calculate the average credit score by geography in the credit card dataset\n",
    "credit_df.groupBy('Geography').avg('CreditScore').withColumnRenamed('avg(CreditScore)', 'Average_Credit_Score').show()"
   ]
  },
  {
   "cell_type": "code",
   "execution_count": 0,
   "metadata": {
    "application/vnd.databricks.v1+cell": {
     "cellMetadata": {
      "byteLimit": 2048000,
      "rowLimit": 10000
     },
     "inputWidgets": {},
     "nuid": "3e121305-cf20-4bca-973e-510648bcdc19",
     "showTitle": false,
     "tableResultSettingsMap": {},
     "title": ""
    }
   },
   "outputs": [
    {
     "output_type": "stream",
     "name": "stdout",
     "output_type": "stream",
     "text": [
      "+--------------+--------------+\n|Marital Status|Customer_Count|\n+--------------+--------------+\n|        SINGLE|           146|\n|       MARRIED|           354|\n+--------------+--------------+\n\n"
     ]
    }
   ],
   "source": [
    "# Group by Marital Status and count the number of customers in each category in loan dataset\n",
    "loan_df.groupBy('Marital Status').count().withColumnRenamed('count', 'Customer_Count').show()"
   ]
  },
  {
   "cell_type": "code",
   "execution_count": 0,
   "metadata": {
    "application/vnd.databricks.v1+cell": {
     "cellMetadata": {
      "byteLimit": 2048000,
      "rowLimit": 10000
     },
     "inputWidgets": {},
     "nuid": "128aeeb3-b521-4796-9b1e-2ff0ea8fa3c3",
     "showTitle": false,
     "tableResultSettingsMap": {},
     "title": ""
    }
   },
   "outputs": [
    {
     "output_type": "stream",
     "name": "stdout",
     "output_type": "stream",
     "text": [
      "+------------------+-------------------+\n|     Loan Category|Average_Expenditure|\n+------------------+-------------------+\n|           HOUSING| 29052.666666666668|\n|        TRAVELLING|          26211.125|\n|       BOOK STORES|            21221.0|\n|       AGRICULTURE|            30573.5|\n|         GOLD LOAN|  26168.61842105263|\n|  EDUCATIONAL LOAN|            31088.6|\n|        AUTOMOBILE| 26787.660714285714|\n|          BUSINESS|            31431.0|\n|COMPUTER SOFTWARES| 26157.363636363636|\n|           DINNING| 27934.285714285714|\n|          SHOPPING| 26654.272727272728|\n|       RESTAURANTS|            25398.0|\n|       ELECTRONICS|  26123.46153846154|\n|          BUILDING| 36014.857142857145|\n|        RESTAURANT|           30609.75|\n|   HOME APPLIANCES| 27622.384615384617|\n+------------------+-------------------+\n\n"
     ]
    }
   ],
   "source": [
    "# Group by Loan Category and calculate the average expenditure for each category in loan dataset\n",
    "loan_df.groupBy('Loan Category').agg({'Expenditure': 'avg'}).withColumnRenamed('avg(Expenditure)', 'Average_Expenditure').show()"
   ]
  },
  {
   "cell_type": "code",
   "execution_count": 0,
   "metadata": {
    "application/vnd.databricks.v1+cell": {
     "cellMetadata": {
      "byteLimit": 2048000,
      "rowLimit": 10000
     },
     "inputWidgets": {},
     "nuid": "24a8ff5f-23e0-449c-a1f2-e27dce1f4e6b",
     "showTitle": false,
     "tableResultSettingsMap": {},
     "title": ""
    }
   },
   "outputs": [
    {
     "output_type": "stream",
     "name": "stdout",
     "output_type": "stream",
     "text": [
      "+--------------------+--------------+\n|          Occupation|Customer_Count|\n+--------------------+--------------+\n|      CIVIL ENGINEER|             6|\n|     FIRE DEPARTMENT|            12|\n|          ACCOUNTANT|             7|\n|        BANK MANAGER|            28|\n|      SYSTEM OFFICER|             4|\n|           NUTRITION|             1|\n|           DIETICIAN|            13|\n|               CLERK|            26|\n|   SOFTWARE ENGINEER|            35|\n|AGRICULTURAL ENGI...|             8|\n|   ASSISTANT MANAGER|             6|\n|             TEACHER|            63|\n| ASSISTANT PROFESSOR|             9|\n|     SYSTEM ENGINEER|             3|\n| CHARTERED APPRAISER|            11|\n|                NAVY|            16|\n|              POLICE|            18|\n|            BUSINESS|            16|\n|              FARMER|             7|\n|              DRIVER|            18|\n+--------------------+--------------+\nonly showing top 20 rows\n\n"
     ]
    }
   ],
   "source": [
    "# Group by Occupation and calculate the number of customers for each occupation in loan dataset\n",
    "loan_df.groupBy('Occupation').count().withColumnRenamed('count', 'Customer_Count').show()"
   ]
  }
 ],
 "metadata": {
  "application/vnd.databricks.v1+notebook": {
   "dashboards": [],
   "environmentMetadata": null,
   "language": "python",
   "notebookMetadata": {
    "pythonIndentUnit": 4
   },
   "notebookName": "Pyspark coding challenge",
   "widgets": {}
  }
 },
 "nbformat": 4,
 "nbformat_minor": 0
}
